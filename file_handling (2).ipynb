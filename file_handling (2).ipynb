{
 "cells": [
  {
   "cell_type": "code",
   "execution_count": 13,
   "id": "9336a6f4-e247-406e-a459-6aa28dbc2ec7",
   "metadata": {},
   "outputs": [
    {
     "name": "stdout",
     "output_type": "stream",
     "text": [
      "His name isFred,\n",
      "His name is Fred . \n"
     ]
    }
   ],
   "source": [
    "name='Fred'\n",
    "\n",
    "#using old format() method\n",
    "print('His name is{var},'.format(var=name))\n",
    "\n",
    "print(f'His name is {name} . ')"
   ]
  },
  {
   "cell_type": "markdown",
   "id": "0cf0a0d1-04a1-4e62-b7e0-3c7d9bd2f763",
   "metadata": {},
   "source": [
    "pass !r to get the string representation"
   ]
  },
  {
   "cell_type": "code",
   "execution_count": 14,
   "id": "93299318-98eb-4653-8fe1-3833792eb674",
   "metadata": {},
   "outputs": [
    {
     "name": "stdout",
     "output_type": "stream",
     "text": [
      "His name is 'Fred'\n"
     ]
    }
   ],
   "source": [
    "print(f'His name is {name!r}')"
   ]
  },
  {
   "cell_type": "code",
   "execution_count": 15,
   "id": "6dba4d94-8d47-4e58-a587-6bfaf29eaf9c",
   "metadata": {},
   "outputs": [
    {
     "ename": "SyntaxError",
     "evalue": "f-string: unmatched '[' (3213291305.py, line 3)",
     "output_type": "error",
     "traceback": [
      "\u001b[1;36m  Cell \u001b[1;32mIn[15], line 3\u001b[1;36m\u001b[0m\n\u001b[1;33m    print(f'Address:{d['a']}Main Street')\u001b[0m\n\u001b[1;37m                        ^\u001b[0m\n\u001b[1;31mSyntaxError\u001b[0m\u001b[1;31m:\u001b[0m f-string: unmatched '['\n"
     ]
    }
   ],
   "source": [
    "d={'a':123,'b':456}\n",
    "\n",
    "print(f'Address:{d['a']}Main Street')"
   ]
  },
  {
   "cell_type": "code",
   "execution_count": 16,
   "id": "e37463e3-513f-44dc-8767-ea73f9087a85",
   "metadata": {},
   "outputs": [
    {
     "name": "stdout",
     "output_type": "stream",
     "text": [
      "Address:123Main Street\n"
     ]
    }
   ],
   "source": [
    "d={'a':123,'b':456}\n",
    "\n",
    "print(f\"Address:{d['a']}Main Street\")"
   ]
  },
  {
   "cell_type": "code",
   "execution_count": 17,
   "id": "00ffdfd9-9c20-4627-a137-e75e065795a4",
   "metadata": {},
   "outputs": [
    {
     "name": "stdout",
     "output_type": "stream",
     "text": [
      "Author     Topic    Pages  \n",
      "Twain      Rafting      601\n",
      "Feynman    Physics       95\n",
      "hamilton   Mythology     144\n"
     ]
    }
   ],
   "source": [
    "library=[('Author','Topic','Pages'),('Twain','Rafting',601),('Feynman','Physics',95),('hamilton','Mythology',144)]\n",
    "\n",
    "for book in library:\n",
    "    print(f'{book[0]:{10}} {book[1]:{8}} {book[2]:{7}}')"
   ]
  },
  {
   "cell_type": "code",
   "execution_count": 18,
   "id": "0c6d996c-d308-4640-ac64-a60751a4f658",
   "metadata": {},
   "outputs": [
    {
     "name": "stdout",
     "output_type": "stream",
     "text": [
      "Author     Topic    ..Pages\n",
      "Twain      Rafting  ....601\n",
      "Feynman    Physics  .....95\n",
      "hamilton   Mythology ....144\n"
     ]
    }
   ],
   "source": [
    "library=[('Author','Topic','Pages'),('Twain','Rafting',601),('Feynman','Physics',95),('hamilton','Mythology',144)]\n",
    "\n",
    "for book in library:\n",
    "    print(f'{book[0]:{10}} {book[1]:{8}} {book[2]:.>{7}}')"
   ]
  },
  {
   "cell_type": "code",
   "execution_count": 19,
   "id": "92b2d8d5-d8be-49aa-b503-0089ef16110d",
   "metadata": {},
   "outputs": [
    {
     "name": "stdout",
     "output_type": "stream",
     "text": [
      "August 22, 24 \n"
     ]
    }
   ],
   "source": [
    "from datetime import datetime\n",
    "today=datetime(year=2024,month=8,day=22)\n",
    "print(f'{today:%B %d, %y }')"
   ]
  },
  {
   "cell_type": "code",
   "execution_count": 20,
   "id": "915827d9-ed9d-4c01-9221-33561c695fe0",
   "metadata": {},
   "outputs": [
    {
     "data": {
      "text/plain": [
       "'C:\\\\Users\\\\rajwa\\\\8-text_mining'"
      ]
     },
     "execution_count": 20,
     "metadata": {},
     "output_type": "execute_result"
    }
   ],
   "source": [
    "pwd\n"
   ]
  },
  {
   "cell_type": "code",
   "execution_count": 21,
   "id": "96ce04bc-0bd8-4f81-b8e2-2a652a33149d",
   "metadata": {},
   "outputs": [
    {
     "name": "stdout",
     "output_type": "stream",
     "text": [
      "Overwriting test.txt\n"
     ]
    }
   ],
   "source": [
    "%%writefile test.txt\n",
    "Hello,this is a quiet test file.\n",
    "This is second line of the file."
   ]
  },
  {
   "cell_type": "code",
   "execution_count": 22,
   "id": "d9815c1d-e622-4b9f-92f6-48a756d65277",
   "metadata": {},
   "outputs": [],
   "source": [
    "my_file = open('test.txt')"
   ]
  },
  {
   "cell_type": "code",
   "execution_count": 23,
   "id": "c703d9d1-12f9-4ad6-9588-fa1cf01bfc05",
   "metadata": {},
   "outputs": [
    {
     "data": {
      "text/plain": [
       "'Hello,this is a quiet test file.\\nThis is second line of the file.\\n'"
      ]
     },
     "execution_count": 23,
     "metadata": {},
     "output_type": "execute_result"
    }
   ],
   "source": [
    "#read file\n",
    "my_file.read()"
   ]
  },
  {
   "cell_type": "code",
   "execution_count": 24,
   "id": "adeae547-3ebf-4099-b2af-64b36cf7332e",
   "metadata": {},
   "outputs": [
    {
     "data": {
      "text/plain": [
       "''"
      ]
     },
     "execution_count": 24,
     "metadata": {},
     "output_type": "execute_result"
    }
   ],
   "source": [
    "#read again\n",
    "my_file.read()"
   ]
  },
  {
   "cell_type": "code",
   "execution_count": 25,
   "id": "c2ff07a4-bd8e-4f39-a652-cc5a22321762",
   "metadata": {},
   "outputs": [
    {
     "data": {
      "text/plain": [
       "0"
      ]
     },
     "execution_count": 25,
     "metadata": {},
     "output_type": "execute_result"
    }
   ],
   "source": [
    "#seek to the start of file(index 0)\n",
    "my_file.seek(0)"
   ]
  },
  {
   "cell_type": "code",
   "execution_count": 26,
   "id": "36b76da1-1b73-48f9-a8b9-8a262fe31bd7",
   "metadata": {},
   "outputs": [
    {
     "data": {
      "text/plain": [
       "'Hello,this is a quiet test file.\\nThis is second line of the file.\\n'"
      ]
     },
     "execution_count": 26,
     "metadata": {},
     "output_type": "execute_result"
    }
   ],
   "source": [
    "my_file.read()"
   ]
  },
  {
   "cell_type": "code",
   "execution_count": 27,
   "id": "d346b2ce-5390-4303-a4f8-ac79a0e20ffc",
   "metadata": {},
   "outputs": [
    {
     "data": {
      "text/plain": [
       "['Hello,this is a quiet test file.\\n', 'This is second line of the file.\\n']"
      ]
     },
     "execution_count": 27,
     "metadata": {},
     "output_type": "execute_result"
    }
   ],
   "source": [
    "my_file.seek(0)\n",
    "my_file.readlines()"
   ]
  },
  {
   "cell_type": "code",
   "execution_count": 28,
   "id": "dbd521c8-f63a-41c9-9fc6-d3c392cb45f3",
   "metadata": {},
   "outputs": [],
   "source": [
    "#add second argument to the function 'w' which stands for write\n",
    "#passing w+ let us read and write to the file\n",
    "my_file=open('test.txt','w+')"
   ]
  },
  {
   "cell_type": "code",
   "execution_count": 29,
   "id": "2f056f54-a49c-43ec-8554-9b6e3da3ada5",
   "metadata": {},
   "outputs": [
    {
     "data": {
      "text/plain": [
       "22"
      ]
     },
     "execution_count": 29,
     "metadata": {},
     "output_type": "execute_result"
    }
   ],
   "source": [
    "my_file.write('This is new first line')"
   ]
  },
  {
   "cell_type": "code",
   "execution_count": 30,
   "id": "e7dacfea-7ba5-4640-8db5-fa3ef6655ca4",
   "metadata": {},
   "outputs": [
    {
     "data": {
      "text/plain": [
       "0"
      ]
     },
     "execution_count": 30,
     "metadata": {},
     "output_type": "execute_result"
    }
   ],
   "source": [
    "my_file.seek(0)"
   ]
  },
  {
   "cell_type": "code",
   "execution_count": 31,
   "id": "2c4cc2a7-de0f-4bda-8fae-e0a97bfc7b5d",
   "metadata": {},
   "outputs": [
    {
     "data": {
      "text/plain": [
       "'This is new first line'"
      ]
     },
     "execution_count": 31,
     "metadata": {},
     "output_type": "execute_result"
    }
   ],
   "source": [
    "my_file.seek(0)\n",
    "my_file.read()"
   ]
  },
  {
   "cell_type": "code",
   "execution_count": 32,
   "id": "55606bf8-f0a7-4553-bb16-eb4190127387",
   "metadata": {},
   "outputs": [],
   "source": [
    "my_file.close()"
   ]
  },
  {
   "cell_type": "code",
   "execution_count": 33,
   "id": "e56db064-5d96-4cc7-b7e1-8c4d12fd0a31",
   "metadata": {},
   "outputs": [
    {
     "data": {
      "text/plain": [
       "23"
      ]
     },
     "execution_count": 33,
     "metadata": {},
     "output_type": "execute_result"
    }
   ],
   "source": [
    "my_file=open('test.txt','a+')\n",
    "my_file.write('\\n This line is been appended to test.txt')\n",
    "my_file.write('\\nAnd another line here.')"
   ]
  },
  {
   "cell_type": "code",
   "execution_count": 34,
   "id": "e44a3e96-5800-4822-8154-a25b88609b5b",
   "metadata": {},
   "outputs": [
    {
     "name": "stdout",
     "output_type": "stream",
     "text": [
      "This is new first line\n",
      " This line is been appended to test.txt\n",
      "And another line here.\n"
     ]
    }
   ],
   "source": [
    "my_file.seek(0)\n",
    "print(my_file.read())"
   ]
  },
  {
   "cell_type": "code",
   "execution_count": 35,
   "id": "1e036ec3-69bc-4da3-acf5-4d60ba563dc1",
   "metadata": {},
   "outputs": [],
   "source": [
    "my_file.close()"
   ]
  },
  {
   "cell_type": "code",
   "execution_count": 36,
   "id": "2a04e88b-03ef-4211-afd0-c80110b0501a",
   "metadata": {},
   "outputs": [],
   "source": [
    "import PyPDF2"
   ]
  },
  {
   "cell_type": "code",
   "execution_count": 37,
   "id": "5784530a-5e42-4721-b705-fa41dd64a6d4",
   "metadata": {},
   "outputs": [],
   "source": [
    "f = open('US_Declaration.pdf','rb')"
   ]
  },
  {
   "cell_type": "code",
   "execution_count": 38,
   "id": "124b47f5-ea6b-4a00-b065-76e892e29885",
   "metadata": {},
   "outputs": [],
   "source": [
    "pdf_reader=PyPDF2.PdfReader(f)"
   ]
  },
  {
   "cell_type": "code",
   "execution_count": 39,
   "id": "1ffbc8a1-1d93-4fdc-918f-6db10c1b6c35",
   "metadata": {},
   "outputs": [],
   "source": [
    "page_one=pdf_reader.pages[0]"
   ]
  },
  {
   "cell_type": "code",
   "execution_count": 40,
   "id": "f829e4e2-ad9e-4945-8ec8-41872eb56f51",
   "metadata": {},
   "outputs": [],
   "source": [
    "page_one_text=page_one.extract_text()"
   ]
  },
  {
   "cell_type": "code",
   "execution_count": 41,
   "id": "39293611-36ff-47aa-ade8-3b7a2743b090",
   "metadata": {},
   "outputs": [
    {
     "data": {
      "text/plain": [
       "\"Declaration of Independence\\nIN CONGRESS, July 4, 1776.  \\nThe unanimous Declaration of the thirteen united States of America,  \\nWhen in the Course of human events, it becomes necessary for one people to dissolve thepolitical bands which have connected them with another, and to assume among the powers of theearth, the separate and equal station to which the Laws of Nature and of Nature's God entitlethem, a decent respect to the opinions of mankind requires that they should declare the causeswhich impel them to the separation. We hold these truths to be self-evident, that all men are created equal, that they are endowed bytheir Creator with certain unalienable Rights, that among these are Life, Liberty and the pursuit\\nof Happiness.— \\x14That to secure these rights, Governments are instituted among Men, derivingtheir just powers from the consent of the governed,—  \\x14That whenever any Form of Government\\nbecomes destructive of these ends, it is the Right of the People to alter or to abolish it, and to\\ninstitute new Government, laying its foundation on such principles and organizing its powers in\\nsuch form, as to them shall seem most likely to effect their Safety and Happiness. Prudence,indeed, will dictate that Governments long established should not be changed for light andtransient causes; and accordingly all experience hath shewn, that mankind are more disposed to\\nsuffer, while evils are sufferable, than to right themselves by abolishing the forms to which theyare accustomed. But when a long train of abuses and usurpations, pursuing invariably the same\\nObject evinces a design to reduce them under absolute Despotism, it is their right, it is their duty,\\nto throw off such Government, and to provide new Guards for their future securit y.— \\x14Such has\\nbeen the patient sufferance of these Colonies; and such is now the necessity which constrainsthem to alter their former Systems of Government. The history of the present King of GreatBritain is a history of repeated injuries and usurpations, all having in direct object the\\nestablishment of an absolute Tyranny over these States. To prove this, let Facts be submitted to a\\ncandid world. \\nHe has refused his Assent to Laws, the most wholesome and necessary for the\\npublic good.He has forbidden his Governors to pass Laws of immediate and pressingimportance, unless suspended in their operation till his Assent should be obtained;and when so suspended, he has utterly neglected to attend to them.He has refused to pass other Laws for the accommodation of large districts of\\npeople, unless those people would relinquish the right of Representation in theLegislature, a right inestimable to them and formidable to tyrants only. He has called together legislative bodies at places unusual, uncomfortable, and distantfrom the depository of their public Records, for the sole purpose of fatiguing them into\\ncompliance with his measures.\""
      ]
     },
     "execution_count": 41,
     "metadata": {},
     "output_type": "execute_result"
    }
   ],
   "source": [
    "page_one_text"
   ]
  },
  {
   "cell_type": "code",
   "execution_count": null,
   "id": "0e69102b-43d1-4953-94e0-6ae924455162",
   "metadata": {},
   "outputs": [],
   "source": []
  },
  {
   "cell_type": "code",
   "execution_count": 42,
   "id": "7b337d02-6673-4993-a215-60a70c622248",
   "metadata": {},
   "outputs": [],
   "source": [
    "text=\"the agent's phone is 408-555-1234. Call soon!\""
   ]
  },
  {
   "cell_type": "code",
   "execution_count": 43,
   "id": "5c0ec85d-c4ef-4d0f-bec5-a3df08138921",
   "metadata": {},
   "outputs": [
    {
     "data": {
      "text/plain": [
       "True"
      ]
     },
     "execution_count": 43,
     "metadata": {},
     "output_type": "execute_result"
    }
   ],
   "source": [
    "'phone' in text"
   ]
  },
  {
   "cell_type": "code",
   "execution_count": 44,
   "id": "5082794c-c8c8-41a0-ad1b-e91270c45b06",
   "metadata": {},
   "outputs": [],
   "source": [
    "import re"
   ]
  },
  {
   "cell_type": "code",
   "execution_count": 45,
   "id": "1f6bbc79-9da3-4256-b1f1-768079a41011",
   "metadata": {},
   "outputs": [],
   "source": [
    "pattern='phone'"
   ]
  },
  {
   "cell_type": "code",
   "execution_count": 46,
   "id": "6d914a28-7bfe-442f-a51f-65f8443faf4a",
   "metadata": {},
   "outputs": [
    {
     "data": {
      "text/plain": [
       "<re.Match object; span=(12, 17), match='phone'>"
      ]
     },
     "execution_count": 46,
     "metadata": {},
     "output_type": "execute_result"
    }
   ],
   "source": [
    "re.search(pattern,text)"
   ]
  },
  {
   "cell_type": "code",
   "execution_count": 47,
   "id": "d77b3b51-2bfc-4fcd-b825-b0b309b62439",
   "metadata": {},
   "outputs": [],
   "source": [
    "pattern=\"NOT IN TEXT\""
   ]
  },
  {
   "cell_type": "code",
   "execution_count": 48,
   "id": "76824f3a-5751-4995-bbbb-7f6d6dc4d4ea",
   "metadata": {},
   "outputs": [],
   "source": [
    "re.search(pattern,text)"
   ]
  },
  {
   "cell_type": "code",
   "execution_count": 49,
   "id": "a2a1a2ef-94cd-46c9-bf81-0687210e995e",
   "metadata": {},
   "outputs": [],
   "source": [
    "pattern='phone'"
   ]
  },
  {
   "cell_type": "code",
   "execution_count": 50,
   "id": "24f37544-e452-40f9-9a04-0367650a3943",
   "metadata": {},
   "outputs": [],
   "source": [
    "match=re.search(pattern,text)"
   ]
  },
  {
   "cell_type": "code",
   "execution_count": 51,
   "id": "c54f57ae-5e1d-4fd8-9190-037d8bb055fd",
   "metadata": {},
   "outputs": [
    {
     "data": {
      "text/plain": [
       "<re.Match object; span=(12, 17), match='phone'>"
      ]
     },
     "execution_count": 51,
     "metadata": {},
     "output_type": "execute_result"
    }
   ],
   "source": [
    "match"
   ]
  },
  {
   "cell_type": "code",
   "execution_count": 52,
   "id": "4be5ddbf-c597-428a-bca4-4830359502cb",
   "metadata": {},
   "outputs": [
    {
     "data": {
      "text/plain": [
       "(12, 17)"
      ]
     },
     "execution_count": 52,
     "metadata": {},
     "output_type": "execute_result"
    }
   ],
   "source": [
    "match.span()"
   ]
  },
  {
   "cell_type": "code",
   "execution_count": 53,
   "id": "9ef0ce61-d321-4094-b3c7-84ed3311ae6a",
   "metadata": {},
   "outputs": [
    {
     "data": {
      "text/plain": [
       "12"
      ]
     },
     "execution_count": 53,
     "metadata": {},
     "output_type": "execute_result"
    }
   ],
   "source": [
    "match.start()"
   ]
  },
  {
   "cell_type": "code",
   "execution_count": 54,
   "id": "6d5a5f21-bab0-4e21-b04b-60449f633b71",
   "metadata": {},
   "outputs": [
    {
     "data": {
      "text/plain": [
       "17"
      ]
     },
     "execution_count": 54,
     "metadata": {},
     "output_type": "execute_result"
    }
   ],
   "source": [
    "match.end()"
   ]
  },
  {
   "cell_type": "code",
   "execution_count": 55,
   "id": "4161b9e3-a627-4ef0-80bd-a8e505325669",
   "metadata": {},
   "outputs": [],
   "source": [
    "text=\"my phone is new phone\"\n"
   ]
  },
  {
   "cell_type": "code",
   "execution_count": 56,
   "id": "6eb54f97-7732-4ee6-b122-571a6f4c7728",
   "metadata": {},
   "outputs": [],
   "source": [
    "match=re.search(\"phone\",text)"
   ]
  },
  {
   "cell_type": "code",
   "execution_count": 57,
   "id": "36ac6241-4e16-4fec-8dc9-b3dd6eeda239",
   "metadata": {},
   "outputs": [
    {
     "data": {
      "text/plain": [
       "(3, 8)"
      ]
     },
     "execution_count": 57,
     "metadata": {},
     "output_type": "execute_result"
    }
   ],
   "source": [
    "match.span()"
   ]
  },
  {
   "cell_type": "code",
   "execution_count": 58,
   "id": "bd66a717-15c8-4b47-98bd-f0ea76e513ea",
   "metadata": {},
   "outputs": [],
   "source": [
    "matches=re.findall(\"phone\",text)"
   ]
  },
  {
   "cell_type": "code",
   "execution_count": 59,
   "id": "680ce980-6f4d-4805-b72d-b42f97c2f8e6",
   "metadata": {},
   "outputs": [
    {
     "data": {
      "text/plain": [
       "['phone', 'phone']"
      ]
     },
     "execution_count": 59,
     "metadata": {},
     "output_type": "execute_result"
    }
   ],
   "source": [
    "matches"
   ]
  },
  {
   "cell_type": "code",
   "execution_count": 60,
   "id": "f730b2b2-fe0a-4968-9020-33f7547f9038",
   "metadata": {},
   "outputs": [
    {
     "data": {
      "text/plain": [
       "2"
      ]
     },
     "execution_count": 60,
     "metadata": {},
     "output_type": "execute_result"
    }
   ],
   "source": [
    "len(matches)"
   ]
  },
  {
   "cell_type": "code",
   "execution_count": 61,
   "id": "412195c7-86d7-4244-b3ac-9763d17b10db",
   "metadata": {},
   "outputs": [
    {
     "name": "stdout",
     "output_type": "stream",
     "text": [
      "(3, 8)\n",
      "(16, 21)\n"
     ]
    }
   ],
   "source": [
    "for match in re.finditer(\"phone\",text):\n",
    "    print(match.span())"
   ]
  },
  {
   "cell_type": "code",
   "execution_count": 62,
   "id": "bb753f41-24b6-466f-aaab-6f70667d9306",
   "metadata": {},
   "outputs": [
    {
     "data": {
      "text/plain": [
       "'phone'"
      ]
     },
     "execution_count": 62,
     "metadata": {},
     "output_type": "execute_result"
    }
   ],
   "source": [
    "match.group()"
   ]
  },
  {
   "cell_type": "code",
   "execution_count": 63,
   "id": "0fe39853-af8d-461c-9944-3a4962139521",
   "metadata": {},
   "outputs": [],
   "source": [
    "text=\"My telephone number is 408-555-1234\"\n"
   ]
  },
  {
   "cell_type": "code",
   "execution_count": 64,
   "id": "574697ca-1ea4-44f0-a73a-5106a05b5f4c",
   "metadata": {},
   "outputs": [],
   "source": [
    "phone=re.search(r'\\d\\d\\d-\\d\\d\\d-\\d\\d\\d\\d',text)"
   ]
  },
  {
   "cell_type": "code",
   "execution_count": 65,
   "id": "4ce97a93-f18e-40ad-bf34-66496ef55f97",
   "metadata": {},
   "outputs": [
    {
     "data": {
      "text/plain": [
       "'408-555-1234'"
      ]
     },
     "execution_count": 65,
     "metadata": {},
     "output_type": "execute_result"
    }
   ],
   "source": [
    "phone.group()"
   ]
  },
  {
   "cell_type": "code",
   "execution_count": 66,
   "id": "6e34d2e2-cee8-4c93-8bef-cefc5531232a",
   "metadata": {},
   "outputs": [
    {
     "data": {
      "text/plain": [
       "<re.Match object; span=(23, 35), match='408-555-1234'>"
      ]
     },
     "execution_count": 66,
     "metadata": {},
     "output_type": "execute_result"
    }
   ],
   "source": [
    "re.search(r'\\d{3}-\\d{3}-\\d{4}',text)"
   ]
  },
  {
   "cell_type": "code",
   "execution_count": 67,
   "id": "c0e60ccd-e532-4d13-b7d8-b8b8eb9005e4",
   "metadata": {},
   "outputs": [],
   "source": [
    "phone_pattern=re.compile(r'(\\d{3})-(\\d{3})-(\\d{4})')"
   ]
  },
  {
   "cell_type": "code",
   "execution_count": 68,
   "id": "3ef0585d-8ecf-4c2d-a91f-03fdcca8fa64",
   "metadata": {},
   "outputs": [],
   "source": [
    "results=re.search(phone_pattern,text)"
   ]
  },
  {
   "cell_type": "code",
   "execution_count": 69,
   "id": "acb9a48f-4f23-4cfd-be9a-65ae64597005",
   "metadata": {},
   "outputs": [
    {
     "data": {
      "text/plain": [
       "'408-555-1234'"
      ]
     },
     "execution_count": 69,
     "metadata": {},
     "output_type": "execute_result"
    }
   ],
   "source": [
    "results.group()"
   ]
  },
  {
   "cell_type": "code",
   "execution_count": 70,
   "id": "a836da5c-5e31-45b7-90ec-44873cd2e2fe",
   "metadata": {},
   "outputs": [
    {
     "data": {
      "text/plain": [
       "'408'"
      ]
     },
     "execution_count": 70,
     "metadata": {},
     "output_type": "execute_result"
    }
   ],
   "source": [
    "results.group(1)"
   ]
  },
  {
   "cell_type": "code",
   "execution_count": 71,
   "id": "112c0cea-6d21-44b7-b329-d01aef72971a",
   "metadata": {},
   "outputs": [
    {
     "data": {
      "text/plain": [
       "'555'"
      ]
     },
     "execution_count": 71,
     "metadata": {},
     "output_type": "execute_result"
    }
   ],
   "source": [
    "results.group(2)"
   ]
  },
  {
   "cell_type": "code",
   "execution_count": 72,
   "id": "42a98fe9-1797-4cb9-8b55-6722c9d600e3",
   "metadata": {},
   "outputs": [
    {
     "data": {
      "text/plain": [
       "'1234'"
      ]
     },
     "execution_count": 72,
     "metadata": {},
     "output_type": "execute_result"
    }
   ],
   "source": [
    "results.group(3)"
   ]
  },
  {
   "cell_type": "code",
   "execution_count": 73,
   "id": "2801185c-7e41-4682-a5aa-a924a02f87e5",
   "metadata": {},
   "outputs": [
    {
     "data": {
      "text/plain": [
       "<re.Match object; span=(5, 8), match='man'>"
      ]
     },
     "execution_count": 73,
     "metadata": {},
     "output_type": "execute_result"
    }
   ],
   "source": [
    "re.search(r\"man|women\",\"This man was here.\")"
   ]
  },
  {
   "cell_type": "code",
   "execution_count": 74,
   "id": "8aa5ce80-a265-468c-a7ed-60b3b708f2b9",
   "metadata": {},
   "outputs": [
    {
     "data": {
      "text/plain": [
       "<re.Match object; span=(5, 10), match='women'>"
      ]
     },
     "execution_count": 74,
     "metadata": {},
     "output_type": "execute_result"
    }
   ],
   "source": [
    "re.search(r\"man|women\",\"This women was here.\")"
   ]
  },
  {
   "cell_type": "code",
   "execution_count": 75,
   "id": "2f6b6cb4-df16-4e88-8107-d63fc0ae9daf",
   "metadata": {},
   "outputs": [
    {
     "data": {
      "text/plain": [
       "['cat', 'hat', 'sat']"
      ]
     },
     "execution_count": 75,
     "metadata": {},
     "output_type": "execute_result"
    }
   ],
   "source": [
    "re.findall(r\".at\",\"The cat in the hat sat here.\")"
   ]
  },
  {
   "cell_type": "code",
   "execution_count": 76,
   "id": "73416f92-23a5-4291-87a4-2392292b35db",
   "metadata": {},
   "outputs": [
    {
     "data": {
      "text/plain": [
       "['bat', 'lat']"
      ]
     },
     "execution_count": 76,
     "metadata": {},
     "output_type": "execute_result"
    }
   ],
   "source": [
    "re.findall(r\".at\",\"The bat went splat\")"
   ]
  },
  {
   "cell_type": "code",
   "execution_count": 77,
   "id": "2236c8fd-a1ca-4ca0-a901-1d3f5ab85bca",
   "metadata": {},
   "outputs": [
    {
     "data": {
      "text/plain": [
       "['e bat', 'splat']"
      ]
     },
     "execution_count": 77,
     "metadata": {},
     "output_type": "execute_result"
    }
   ],
   "source": [
    "re.findall(r\"...at\",\"The bat went splat.\")"
   ]
  },
  {
   "cell_type": "code",
   "execution_count": 78,
   "id": "d87c1a02-90be-4f9d-94b2-fec570b4f4aa",
   "metadata": {},
   "outputs": [
    {
     "data": {
      "text/plain": [
       "['bat', 'splat']"
      ]
     },
     "execution_count": 78,
     "metadata": {},
     "output_type": "execute_result"
    }
   ],
   "source": [
    "re.findall(r\"\\S+at\",\"The bat wnt splat.\")"
   ]
  },
  {
   "cell_type": "code",
   "execution_count": 79,
   "id": "7ea31c79-805a-4ba9-a5df-3b34d04e14ec",
   "metadata": {},
   "outputs": [
    {
     "data": {
      "text/plain": [
       "['2']"
      ]
     },
     "execution_count": 79,
     "metadata": {},
     "output_type": "execute_result"
    }
   ],
   "source": [
    "re.findall(r'\\d$','This ends with nuber 2')"
   ]
  },
  {
   "cell_type": "code",
   "execution_count": 80,
   "id": "a0709297-d784-4bcd-83e8-cefd35555020",
   "metadata": {},
   "outputs": [
    {
     "data": {
      "text/plain": [
       "['bat', 'splat']"
      ]
     },
     "execution_count": 80,
     "metadata": {},
     "output_type": "execute_result"
    }
   ],
   "source": [
    "re.findall(r\"\\S+at\",\"The bat wnt splat.\")"
   ]
  },
  {
   "cell_type": "code",
   "execution_count": 81,
   "id": "afc1c2e3-e00b-4c03-95c9-fdbcbf479dfe",
   "metadata": {},
   "outputs": [
    {
     "data": {
      "text/plain": [
       "['1']"
      ]
     },
     "execution_count": 81,
     "metadata": {},
     "output_type": "execute_result"
    }
   ],
   "source": [
    "re.findall(r'^\\d','1 is the lonleast number')"
   ]
  },
  {
   "cell_type": "code",
   "execution_count": 82,
   "id": "5a67931c-a31e-41c7-905d-1f3ba2de61ec",
   "metadata": {},
   "outputs": [],
   "source": [
    "phrase=\"there are three numbers 34 inside 5 this sentence.\""
   ]
  },
  {
   "cell_type": "code",
   "execution_count": 84,
   "id": "965002cc-e4fa-4ad4-8d81-bae5329de78a",
   "metadata": {},
   "outputs": [],
   "source": [
    "text=re.findall(r'[^\\d]+',phrase)"
   ]
  },
  {
   "cell_type": "code",
   "execution_count": 85,
   "id": "2f555eb2-f0e7-4fab-8264-7cd187995a83",
   "metadata": {},
   "outputs": [
    {
     "data": {
      "text/plain": [
       "['there are three numbers ', ' inside ', ' this sentence.']"
      ]
     },
     "execution_count": 85,
     "metadata": {},
     "output_type": "execute_result"
    }
   ],
   "source": [
    "text"
   ]
  },
  {
   "cell_type": "code",
   "execution_count": 87,
   "id": "2ba8adbd-e1c5-4008-a5d6-499a52db2e5f",
   "metadata": {},
   "outputs": [],
   "source": [
    "test_phrase='This is a string ! But it has punctuation .How can we remove it?'"
   ]
  },
  {
   "cell_type": "code",
   "execution_count": 97,
   "id": "848d4aa0-e5d0-4894-a511-23536a2854bd",
   "metadata": {},
   "outputs": [
    {
     "data": {
      "text/plain": [
       "['This is a string ', ' But it has punctuation ', 'How can we remove it']"
      ]
     },
     "execution_count": 97,
     "metadata": {},
     "output_type": "execute_result"
    }
   ],
   "source": [
    "re.findall(r'[^!.?]+',test_phrase)"
   ]
  },
  {
   "cell_type": "code",
   "execution_count": 98,
   "id": "cbd8bcee-38a2-4578-9b7f-3cfcf013fe52",
   "metadata": {},
   "outputs": [],
   "source": [
    "clean=' '.join(re.findall('[^!.?]+',test_phrase))"
   ]
  },
  {
   "cell_type": "code",
   "execution_count": 99,
   "id": "3d884c4f-95eb-4835-8342-79829c407e5e",
   "metadata": {},
   "outputs": [
    {
     "data": {
      "text/plain": [
       "'This is a string   But it has punctuation  How can we remove it'"
      ]
     },
     "execution_count": 99,
     "metadata": {},
     "output_type": "execute_result"
    }
   ],
   "source": [
    "clean"
   ]
  },
  {
   "cell_type": "code",
   "execution_count": 101,
   "id": "5a43ede2-b784-408d-af93-8d81999d0377",
   "metadata": {},
   "outputs": [],
   "source": [
    "text='Hello you like some catfish?'\n",
    "texttwo='Hello would you like to take a catnap?'\n",
    "textthree='Hello, have you seen this caterpillar?'"
   ]
  },
  {
   "cell_type": "code",
   "execution_count": 103,
   "id": "7b5e6019-ff11-44e4-a73d-2673780941d8",
   "metadata": {},
   "outputs": [
    {
     "data": {
      "text/plain": [
       "<re.Match object; span=(20, 27), match='catfish'>"
      ]
     },
     "execution_count": 103,
     "metadata": {},
     "output_type": "execute_result"
    }
   ],
   "source": [
    "re.search(r'cat(fish|nap|claw)',text)"
   ]
  },
  {
   "cell_type": "code",
   "execution_count": 104,
   "id": "86a8953b-4aeb-4ae4-bdf5-eb532847e500",
   "metadata": {},
   "outputs": [
    {
     "data": {
      "text/plain": [
       "<re.Match object; span=(31, 37), match='catnap'>"
      ]
     },
     "execution_count": 104,
     "metadata": {},
     "output_type": "execute_result"
    }
   ],
   "source": [
    "re.search(r'cat(fish|nap|claw)',texttwo)"
   ]
  },
  {
   "cell_type": "code",
   "execution_count": 106,
   "id": "11679750-7ba7-467e-a7ad-0a2c68a747d6",
   "metadata": {},
   "outputs": [],
   "source": [
    "re.search(r'cat(fish|nap|claw)',textthree)"
   ]
  },
  {
   "cell_type": "code",
   "execution_count": null,
   "id": "ddc5e705-1c0a-49d4-bbfa-8b12e15624b6",
   "metadata": {},
   "outputs": [],
   "source": []
  }
 ],
 "metadata": {
  "kernelspec": {
   "display_name": "Python 3 (ipykernel)",
   "language": "python",
   "name": "python3"
  },
  "language_info": {
   "codemirror_mode": {
    "name": "ipython",
    "version": 3
   },
   "file_extension": ".py",
   "mimetype": "text/x-python",
   "name": "python",
   "nbconvert_exporter": "python",
   "pygments_lexer": "ipython3",
   "version": "3.11.7"
  }
 },
 "nbformat": 4,
 "nbformat_minor": 5
}
